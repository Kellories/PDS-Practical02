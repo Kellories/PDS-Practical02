{
 "cells": [
  {
   "cell_type": "code",
   "execution_count": 2,
   "metadata": {},
   "outputs": [],
   "source": [
    "import numpy as np\n"
   ]
  },
  {
   "attachments": {},
   "cell_type": "markdown",
   "metadata": {},
   "source": [
    "<h1>Array Math</h1>"
   ]
  },
  {
   "attachments": {},
   "cell_type": "markdown",
   "metadata": {},
   "source": [
    "<h2>Task 1: Add, subtract, multiply and divide numpy arrays</h2>\n",
    "Given the following Numpy arrays, answer the questions from (a) to (g) below.\n",
    "\n",
    "a = np.arange(100,200,1).reshape(20,5)\n",
    "\n",
    "b = np.arange(1,2000,20).reshape(10,10)\n",
    "\n",
    "c = np.array([ [1,2,3], [4,5,6]])\n",
    "\n",
    "(a) What happens when you try to perform the following operations on array a and array b?\n",
    "\n",
    "print(a+b)\n",
    "\n",
    "Answer: It returns an error as the array shape is not the same.\n",
    "\n",
    "(b) Create an array a2 that has the same shape as array a, containing random numbers between\n",
    "0 and 100. Print the contents of the resulting array when a and a2 are added together.\n",
    "\n",
    "(c) Extract a subset of array b into an array variable b1, such that you can perform a subtraction\n",
    "operation of (b1 – c) successfully. Print out the resulting contents of the array of this\n",
    "operation.\n",
    "\n",
    "(d) Create an array c2 such that c2 contains the values of array c multiplied by 10.\n"
   ]
  },
  {
   "cell_type": "code",
   "execution_count": 9,
   "metadata": {},
   "outputs": [
    {
     "name": "stdout",
     "output_type": "stream",
     "text": [
      "[[  0  19  38]\n",
      " [197 216 235]]\n",
      "[[10 20 30]\n",
      " [40 50 60]]\n"
     ]
    }
   ],
   "source": [
    "a = np.arange(100,200,1).reshape(20,5)\n",
    "b = np.arange(1,2000,20).reshape(10,10)\n",
    "c = np.array([[1,2,3],[4,5,6]])\n",
    "a2 = np.arange(100,200,1).reshape(20,5)\n",
    "b1 = b[:2,:3]\n",
    "print(b1 - c)\n",
    "c2 = c * 10\n",
    "print(c2)\n",
    "# print(a+a2)\n"
   ]
  },
  {
   "attachments": {},
   "cell_type": "markdown",
   "metadata": {},
   "source": [
    "<h1>Statistical methods</h1>"
   ]
  },
  {
   "attachments": {},
   "cell_type": "markdown",
   "metadata": {},
   "source": [
    "<h2>Task 1: sum, mean</h2>\n",
    "\n",
    "a = np.array((np.arange(0,10),\n",
    "np.arange(10,20),\n",
    "np.arange(20,30),\n",
    "np.arange(30,40)))\n",
    "\n",
    "(a) What is the sum of all the numbers in array a?\n",
    "\n",
    "(b) What is their mean?\n",
    "\n",
    "(c) What is the sum of all the numbers in each row?\n",
    "\n",
    "Using the Numpy statistical functions sum() and mean(), compute the information for array a as\n",
    "specified above"
   ]
  },
  {
   "cell_type": "code",
   "execution_count": 21,
   "metadata": {},
   "outputs": [
    {
     "name": "stdout",
     "output_type": "stream",
     "text": [
      "Contents of array a\n",
      "[[ 0  1  2  3  4  5  6  7  8  9]\n",
      " [10 11 12 13 14 15 16 17 18 19]\n",
      " [20 21 22 23 24 25 26 27 28 29]\n",
      " [30 31 32 33 34 35 36 37 38 39]]\n",
      "***Sum of all numbers in a***\n",
      "780\n",
      "***Mean of all numbers in a***\n",
      "19.5\n",
      "***Sum of all numbers in each row***\n",
      "Row 1 sum = 45\n",
      "Row 2 sum = 145\n",
      "Row 3 sum = 245\n",
      "Row 4 sum = 345\n"
     ]
    }
   ],
   "source": [
    "a = np.array((np.arange(0,10),\n",
    "np.arange(10,20),\n",
    "np.arange(20,30),\n",
    "np.arange(30,40)))\n",
    "print('Contents of array a')\n",
    "print(a)\n",
    "print('***Sum of all numbers in a***')\n",
    "print(a.sum())\n",
    "print('***Mean of all numbers in a***')\n",
    "print(np.mean(a))\n",
    "print('***Sum of all numbers in each row***')\n",
    "\n",
    "for i in range(len(a)):\n",
    "    print(f'Row {(i+1)} sum = {(np.sum(a[i]))}')"
   ]
  },
  {
   "attachments": {},
   "cell_type": "markdown",
   "metadata": {},
   "source": [
    "<h2>Task 2: std,var </h2>\n",
    "a = np.arange(10,50,0.5)\n",
    "\n",
    "b = np.arange(10,20,0.1)\n",
    "\n",
    "(a) What is the standard deviation of arrays a and b?\n",
    "\n",
    "(b) What is the variance of arrays a and b?\n",
    "\n",
    "Using the Numpy statistical functions std() and var(), compute the information for array a as\n",
    "specified. Your output should resemble the screenshot shown below"
   ]
  },
  {
   "cell_type": "code",
   "execution_count": 31,
   "metadata": {},
   "outputs": [
    {
     "name": "stdout",
     "output_type": "stream",
     "text": [
      "Contents of array a\n",
      "[10.  10.5 11.  11.5 12.  12.5 13.  13.5 14.  14.5 15.  15.5 16.  16.5\n",
      " 17.  17.5 18.  18.5 19.  19.5 20.  20.5 21.  21.5 22.  22.5 23.  23.5\n",
      " 24.  24.5 25.  25.5 26.  26.5 27.  27.5 28.  28.5 29.  29.5 30.  30.5\n",
      " 31.  31.5 32.  32.5 33.  33.5 34.  34.5 35.  35.5 36.  36.5 37.  37.5\n",
      " 38.  38.5 39.  39.5 40.  40.5 41.  41.5 42.  42.5 43.  43.5 44.  44.5\n",
      " 45.  45.5 46.  46.5 47.  47.5 48.  48.5 49.  49.5]\n",
      "Contents of array b\n",
      "[10.  10.1 10.2 10.3 10.4 10.5 10.6 10.7 10.8 10.9 11.  11.1 11.2 11.3\n",
      " 11.4 11.5 11.6 11.7 11.8 11.9 12.  12.1 12.2 12.3 12.4 12.5 12.6 12.7\n",
      " 12.8 12.9 13.  13.1 13.2 13.3 13.4 13.5 13.6 13.7 13.8 13.9 14.  14.1\n",
      " 14.2 14.3 14.4 14.5 14.6 14.7 14.8 14.9 15.  15.1 15.2 15.3 15.4 15.5\n",
      " 15.6 15.7 15.8 15.9 16.  16.1 16.2 16.3 16.4 16.5 16.6 16.7 16.8 16.9\n",
      " 17.  17.1 17.2 17.3 17.4 17.5 17.6 17.7 17.8 17.9 18.  18.1 18.2 18.3\n",
      " 18.4 18.5 18.6 18.7 18.8 18.9 19.  19.1 19.2 19.3 19.4 19.5 19.6 19.7\n",
      " 19.8 19.9]\n",
      "*** Standard Deviation ***\n",
      "SD of a : 11.546103238755489\n",
      "SD of b : 2.8866070047722014\n",
      "*** Variance ***\n",
      "VAR of a : 133.3125\n",
      "VAR of b : 8.332499999999941\n"
     ]
    }
   ],
   "source": [
    "a = np.arange(10,50,0.5)\n",
    "\n",
    "b = np.arange(10,20,0.1)\n",
    "\n",
    "a_std = np.std(a)\n",
    "b_std = np.std(b)\n",
    "a_var = np.var(a)\n",
    "b_var = np.var(b)\n",
    "print('Contents of array a')\n",
    "print(a)\n",
    "print('Contents of array b')\n",
    "print(b)\n",
    "print('*** Standard Deviation ***')\n",
    "print(f\"SD of a : {a_std}\")\n",
    "print(f\"SD of b : {b_std}\")\n",
    "print('*** Variance ***')\n",
    "print(f\"VAR of a : {a_var}\")\n",
    "print(f\"VAR of b : {b_var}\")"
   ]
  },
  {
   "attachments": {},
   "cell_type": "markdown",
   "metadata": {},
   "source": [
    "<h2>Task 3: min/ max, argmin/ argmax</h2>\n",
    "\n",
    "a = np.random.randint(1,1000,(3,4))\n",
    "\n",
    "Print out the following information:\n",
    "\n",
    "maximum value of each row in array a\n",
    "\n",
    "maximum value of the entire array a\n",
    "\n",
    "row and column that has the number with the maximum value in array a\n",
    "\n",
    "minimum value of each column in array a\n",
    "\n",
    "minimum value of the entire array a\n",
    "\n",
    "row and column that has the number with the minimum value in array a\n",
    "\n"
   ]
  },
  {
   "cell_type": "code",
   "execution_count": 64,
   "metadata": {},
   "outputs": [
    {
     "name": "stdout",
     "output_type": "stream",
     "text": [
      "***Contents of array a***\n",
      "[[283 280 518 460]\n",
      " [451 371 408 115]\n",
      " [956 316 537 527]]\n",
      "Max a = 956\n",
      "Row and Column is ([2],[0])\n",
      "Min a = 115\n",
      "Row and Column is ([1],[3])\n"
     ]
    }
   ],
   "source": [
    "a = np.random.randint(1,1000,(3,4))\n",
    "print(\"***Contents of array a***\")\n",
    "print(a)\n",
    "print(f\"Max a = {(np.max(a))}\")\n",
    "max_loc = np.argmax(a,axis=1)\n",
    "print(f'Row and Column is ([{max_loc[0]}],[{max_loc[1]}])')\n",
    "print(f'Min a = {(np.min(a))}')\n",
    "min_loc = np.argmin(a, axis=1)\n",
    "print(f\"Row and Column is ([{min_loc[0]}],[{min_loc[1]}])\")"
   ]
  },
  {
   "cell_type": "code",
   "execution_count": 73,
   "metadata": {},
   "outputs": [
    {
     "name": "stdout",
     "output_type": "stream",
     "text": [
      "There are altogether 855 rows in the data file singapore-residents-by-ethnic-group-and-sex-end-june-annual.csv\n",
      "\n",
      "There are 57 years of data captured from 1960 to 2016\n",
      "Year with the highest total number of residents: (2016, 'Total Residents', 3933559)\n",
      "Population Count: 3933559 \n",
      "Year with the lowest total number of residents: (1960, 'Total Residents', 1646400)\n",
      "Population Count: 1646400 \n"
     ]
    }
   ],
   "source": [
    "### Read the csv file using genfromtxt\n",
    "filename = \"singapore-residents-by-ethnic-group-and-sex-end-june-annual.csv\"\n",
    "data = np.genfromtxt(filename, dtype=['i2', 'U50', 'i8'],\n",
    "delimiter=',', names=True)\n",
    "# print(data)\n",
    "### Print out total rows of data in the file\n",
    "print(f'There are altogether {len(data)} rows in the data file {filename}')\n",
    "print()\n",
    "### Print out the number of years of data captured\n",
    "data_years = data['year']\n",
    "years = np.unique(data_years)\n",
    "print(f'There are {len(years)} years of data captured from {years[0]} to {years[-1]}')\n",
    "## Extract only the rows with Total Residents\" - using boolean indexing\n",
    "keyword = 'Total Residents'\n",
    "data_totalresidents = data[data['level_1'] == keyword]\n",
    "# print(data_totalresidents)\n",
    "### Print out the years which has the highest total number of residents\n",
    "max_residents = data_totalresidents['value'].max()\n",
    "argmax_residents = data_totalresidents['value'].argmax()\n",
    "print(f'Year with the highest total number of residents: {data_totalresidents[argmax_residents]}')\n",
    "print(f'Population Count: {max_residents} ')\n",
    "\n",
    "### Print out the years which has the lowest total number of residents\n",
    "min_residents = data_totalresidents['value'].min()\n",
    "argmin_residents = data_totalresidents['value'].argmin()\n",
    "print(f'Year with the lowest total number of residents: {data_totalresidents[argmin_residents]}')\n",
    "print(f'Population Count: { min_residents } ')\n"
   ]
  }
 ],
 "metadata": {
  "kernelspec": {
   "display_name": "Python 3",
   "language": "python",
   "name": "python3"
  },
  "language_info": {
   "codemirror_mode": {
    "name": "ipython",
    "version": 3
   },
   "file_extension": ".py",
   "mimetype": "text/x-python",
   "name": "python",
   "nbconvert_exporter": "python",
   "pygments_lexer": "ipython3",
   "version": "3.10.9"
  },
  "orig_nbformat": 4
 },
 "nbformat": 4,
 "nbformat_minor": 2
}
